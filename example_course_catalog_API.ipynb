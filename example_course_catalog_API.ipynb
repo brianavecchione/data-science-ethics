{
 "cells": [
  {
   "cell_type": "code",
   "execution_count": 23,
   "metadata": {},
   "outputs": [
    {
     "ename": "JSONDecodeError",
     "evalue": "Expecting value: line 1 column 1 (char 0)",
     "output_type": "error",
     "traceback": [
      "\u001b[0;31m---------------------------------------------------------------------------\u001b[0m",
      "\u001b[0;31mJSONDecodeError\u001b[0m                           Traceback (most recent call last)",
      "\u001b[0;32m<ipython-input-23-b3b963f8fc69>\u001b[0m in \u001b[0;36m<module>\u001b[0;34m\u001b[0m\n\u001b[1;32m     32\u001b[0m     \u001b[0mresponse\u001b[0m \u001b[0;34m=\u001b[0m \u001b[0mrequests\u001b[0m\u001b[0;34m.\u001b[0m\u001b[0mget\u001b[0m\u001b[0;34m(\u001b[0m\u001b[0murl\u001b[0m\u001b[0;34m+\u001b[0m\u001b[0mkeyword\u001b[0m\u001b[0;34m)\u001b[0m\u001b[0;34m\u001b[0m\u001b[0;34m\u001b[0m\u001b[0m\n\u001b[1;32m     33\u001b[0m     \u001b[0msoup\u001b[0m \u001b[0;34m=\u001b[0m \u001b[0mBeautifulSoup\u001b[0m\u001b[0;34m(\u001b[0m\u001b[0mresponse\u001b[0m\u001b[0;34m.\u001b[0m\u001b[0mcontent\u001b[0m\u001b[0;34m,\u001b[0m \u001b[0;34m'html.parser'\u001b[0m\u001b[0;34m)\u001b[0m\u001b[0;34m\u001b[0m\u001b[0;34m\u001b[0m\u001b[0m\n\u001b[0;32m---> 34\u001b[0;31m     \u001b[0mj\u001b[0m \u001b[0;34m=\u001b[0m \u001b[0mresponse\u001b[0m\u001b[0;34m.\u001b[0m\u001b[0mjson\u001b[0m\u001b[0;34m(\u001b[0m\u001b[0;34m)\u001b[0m\u001b[0;34m\u001b[0m\u001b[0;34m\u001b[0m\u001b[0m\n\u001b[0m\u001b[1;32m     35\u001b[0m \u001b[0;31m#     response = BeautifulSoup(urlopen(url))\u001b[0m\u001b[0;34m\u001b[0m\u001b[0;34m\u001b[0m\u001b[0;34m\u001b[0m\u001b[0m\n\u001b[1;32m     36\u001b[0m     \u001b[0mprint\u001b[0m\u001b[0;34m(\u001b[0m\u001b[0mresponse\u001b[0m\u001b[0;34m)\u001b[0m\u001b[0;34m\u001b[0m\u001b[0;34m\u001b[0m\u001b[0m\n",
      "\u001b[0;32m~/anaconda3/lib/python3.7/site-packages/requests/models.py\u001b[0m in \u001b[0;36mjson\u001b[0;34m(self, **kwargs)\u001b[0m\n\u001b[1;32m    895\u001b[0m                     \u001b[0;31m# used.\u001b[0m\u001b[0;34m\u001b[0m\u001b[0;34m\u001b[0m\u001b[0;34m\u001b[0m\u001b[0m\n\u001b[1;32m    896\u001b[0m                     \u001b[0;32mpass\u001b[0m\u001b[0;34m\u001b[0m\u001b[0;34m\u001b[0m\u001b[0m\n\u001b[0;32m--> 897\u001b[0;31m         \u001b[0;32mreturn\u001b[0m \u001b[0mcomplexjson\u001b[0m\u001b[0;34m.\u001b[0m\u001b[0mloads\u001b[0m\u001b[0;34m(\u001b[0m\u001b[0mself\u001b[0m\u001b[0;34m.\u001b[0m\u001b[0mtext\u001b[0m\u001b[0;34m,\u001b[0m \u001b[0;34m**\u001b[0m\u001b[0mkwargs\u001b[0m\u001b[0;34m)\u001b[0m\u001b[0;34m\u001b[0m\u001b[0;34m\u001b[0m\u001b[0m\n\u001b[0m\u001b[1;32m    898\u001b[0m \u001b[0;34m\u001b[0m\u001b[0m\n\u001b[1;32m    899\u001b[0m     \u001b[0;34m@\u001b[0m\u001b[0mproperty\u001b[0m\u001b[0;34m\u001b[0m\u001b[0;34m\u001b[0m\u001b[0m\n",
      "\u001b[0;32m~/anaconda3/lib/python3.7/site-packages/simplejson/__init__.py\u001b[0m in \u001b[0;36mloads\u001b[0;34m(s, encoding, cls, object_hook, parse_float, parse_int, parse_constant, object_pairs_hook, use_decimal, **kw)\u001b[0m\n\u001b[1;32m    516\u001b[0m             \u001b[0mparse_constant\u001b[0m \u001b[0;32mis\u001b[0m \u001b[0;32mNone\u001b[0m \u001b[0;32mand\u001b[0m \u001b[0mobject_pairs_hook\u001b[0m \u001b[0;32mis\u001b[0m \u001b[0;32mNone\u001b[0m\u001b[0;34m\u001b[0m\u001b[0;34m\u001b[0m\u001b[0m\n\u001b[1;32m    517\u001b[0m             and not use_decimal and not kw):\n\u001b[0;32m--> 518\u001b[0;31m         \u001b[0;32mreturn\u001b[0m \u001b[0m_default_decoder\u001b[0m\u001b[0;34m.\u001b[0m\u001b[0mdecode\u001b[0m\u001b[0;34m(\u001b[0m\u001b[0ms\u001b[0m\u001b[0;34m)\u001b[0m\u001b[0;34m\u001b[0m\u001b[0;34m\u001b[0m\u001b[0m\n\u001b[0m\u001b[1;32m    519\u001b[0m     \u001b[0;32mif\u001b[0m \u001b[0mcls\u001b[0m \u001b[0;32mis\u001b[0m \u001b[0;32mNone\u001b[0m\u001b[0;34m:\u001b[0m\u001b[0;34m\u001b[0m\u001b[0;34m\u001b[0m\u001b[0m\n\u001b[1;32m    520\u001b[0m         \u001b[0mcls\u001b[0m \u001b[0;34m=\u001b[0m \u001b[0mJSONDecoder\u001b[0m\u001b[0;34m\u001b[0m\u001b[0;34m\u001b[0m\u001b[0m\n",
      "\u001b[0;32m~/anaconda3/lib/python3.7/site-packages/simplejson/decoder.py\u001b[0m in \u001b[0;36mdecode\u001b[0;34m(self, s, _w, _PY3)\u001b[0m\n\u001b[1;32m    368\u001b[0m         \u001b[0;32mif\u001b[0m \u001b[0m_PY3\u001b[0m \u001b[0;32mand\u001b[0m \u001b[0misinstance\u001b[0m\u001b[0;34m(\u001b[0m\u001b[0ms\u001b[0m\u001b[0;34m,\u001b[0m \u001b[0mbytes\u001b[0m\u001b[0;34m)\u001b[0m\u001b[0;34m:\u001b[0m\u001b[0;34m\u001b[0m\u001b[0;34m\u001b[0m\u001b[0m\n\u001b[1;32m    369\u001b[0m             \u001b[0ms\u001b[0m \u001b[0;34m=\u001b[0m \u001b[0mstr\u001b[0m\u001b[0;34m(\u001b[0m\u001b[0ms\u001b[0m\u001b[0;34m,\u001b[0m \u001b[0mself\u001b[0m\u001b[0;34m.\u001b[0m\u001b[0mencoding\u001b[0m\u001b[0;34m)\u001b[0m\u001b[0;34m\u001b[0m\u001b[0;34m\u001b[0m\u001b[0m\n\u001b[0;32m--> 370\u001b[0;31m         \u001b[0mobj\u001b[0m\u001b[0;34m,\u001b[0m \u001b[0mend\u001b[0m \u001b[0;34m=\u001b[0m \u001b[0mself\u001b[0m\u001b[0;34m.\u001b[0m\u001b[0mraw_decode\u001b[0m\u001b[0;34m(\u001b[0m\u001b[0ms\u001b[0m\u001b[0;34m)\u001b[0m\u001b[0;34m\u001b[0m\u001b[0;34m\u001b[0m\u001b[0m\n\u001b[0m\u001b[1;32m    371\u001b[0m         \u001b[0mend\u001b[0m \u001b[0;34m=\u001b[0m \u001b[0m_w\u001b[0m\u001b[0;34m(\u001b[0m\u001b[0ms\u001b[0m\u001b[0;34m,\u001b[0m \u001b[0mend\u001b[0m\u001b[0;34m)\u001b[0m\u001b[0;34m.\u001b[0m\u001b[0mend\u001b[0m\u001b[0;34m(\u001b[0m\u001b[0;34m)\u001b[0m\u001b[0;34m\u001b[0m\u001b[0;34m\u001b[0m\u001b[0m\n\u001b[1;32m    372\u001b[0m         \u001b[0;32mif\u001b[0m \u001b[0mend\u001b[0m \u001b[0;34m!=\u001b[0m \u001b[0mlen\u001b[0m\u001b[0;34m(\u001b[0m\u001b[0ms\u001b[0m\u001b[0;34m)\u001b[0m\u001b[0;34m:\u001b[0m\u001b[0;34m\u001b[0m\u001b[0;34m\u001b[0m\u001b[0m\n",
      "\u001b[0;32m~/anaconda3/lib/python3.7/site-packages/simplejson/decoder.py\u001b[0m in \u001b[0;36mraw_decode\u001b[0;34m(self, s, idx, _w, _PY3)\u001b[0m\n\u001b[1;32m    398\u001b[0m             \u001b[0;32melif\u001b[0m \u001b[0mord0\u001b[0m \u001b[0;34m==\u001b[0m \u001b[0;36m0xef\u001b[0m \u001b[0;32mand\u001b[0m \u001b[0ms\u001b[0m\u001b[0;34m[\u001b[0m\u001b[0midx\u001b[0m\u001b[0;34m:\u001b[0m\u001b[0midx\u001b[0m \u001b[0;34m+\u001b[0m \u001b[0;36m3\u001b[0m\u001b[0;34m]\u001b[0m \u001b[0;34m==\u001b[0m \u001b[0;34m'\\xef\\xbb\\xbf'\u001b[0m\u001b[0;34m:\u001b[0m\u001b[0;34m\u001b[0m\u001b[0;34m\u001b[0m\u001b[0m\n\u001b[1;32m    399\u001b[0m                 \u001b[0midx\u001b[0m \u001b[0;34m+=\u001b[0m \u001b[0;36m3\u001b[0m\u001b[0;34m\u001b[0m\u001b[0;34m\u001b[0m\u001b[0m\n\u001b[0;32m--> 400\u001b[0;31m         \u001b[0;32mreturn\u001b[0m \u001b[0mself\u001b[0m\u001b[0;34m.\u001b[0m\u001b[0mscan_once\u001b[0m\u001b[0;34m(\u001b[0m\u001b[0ms\u001b[0m\u001b[0;34m,\u001b[0m \u001b[0midx\u001b[0m\u001b[0;34m=\u001b[0m\u001b[0m_w\u001b[0m\u001b[0;34m(\u001b[0m\u001b[0ms\u001b[0m\u001b[0;34m,\u001b[0m \u001b[0midx\u001b[0m\u001b[0;34m)\u001b[0m\u001b[0;34m.\u001b[0m\u001b[0mend\u001b[0m\u001b[0;34m(\u001b[0m\u001b[0;34m)\u001b[0m\u001b[0;34m)\u001b[0m\u001b[0;34m\u001b[0m\u001b[0;34m\u001b[0m\u001b[0m\n\u001b[0m",
      "\u001b[0;31mJSONDecodeError\u001b[0m: Expecting value: line 1 column 1 (char 0)"
     ]
    }
   ],
   "source": [
    "import urllib.request\n",
    "import json\n",
    "import requests\n",
    "import time\n",
    "import csv\n",
    "from bs4 import BeautifulSoup\n",
    "from urllib.request import urlopen\n",
    "\n",
    "url = 'http://coursecatalog.web.cmu.edu/search/?context=catalog&search='\n",
    "output_filename = 'examplefile-{}.csv'\n",
    "\n",
    "#init keyword lists\n",
    "technical = ['artificial intelligence', 'assumption', 'algorithm', 'analytics', 'AI', 'automat', 'big data',\n",
    "             'calc', 'calculus', 'code', 'comput', 'cyber','data', 'data analysis', 'data mining',\n",
    "             'data science', 'data warehousing', 'data wrangling' 'database', 'database management',\n",
    "             'decision making', 'digital', 'engineering', 'ICT', 'information', \n",
    "             'information and communication technology', 'internet', 'linalg', 'linear algebra',\n",
    "             'machine learning', 'ML', 'modeling', 'natural language processing', 'NLP', \n",
    "             'problem formulation', 'programming', 'quantitative modeling', 'robot', 'software', \n",
    "             'statistics', 'stats', 'techn', 'visualization']  \n",
    "#'automat'*, 'comput'*, 'robot'*, 'techn'*\n",
    "\n",
    "normative = ['critical', 'ethic', 'fair', 'feminist', 'govern', 'inequality', 'law', 'normative',\n",
    "             'philosoph', 'policy', 'privacy', 'relig', 'responsib', 'security', 'social', 'society',\n",
    "             'surveillance', 'value']\n",
    "# 'ethic'*, 'fair'*,'govern'*,'philosoph'*,'relig'*, 'responsib'*,'value'*\n",
    "\n",
    "# pattern matching for union of (technical and normative keywords) relevant courses \n",
    "# Get and format the output.\n",
    "# output = [['Country: ' + country], [], ['Keyword', 'ams']]\n",
    "# for keyword in technical:\n",
    "#     response = requests.get(url+keyword)\n",
    "#     soup = BeautifulSoup(response.content, 'html.parser')\n",
    "#     j = response.json()\n",
    "# #     response = BeautifulSoup(urlopen(url))\n",
    "#     print(response)\n",
    "#     #write to csv\n",
    "# #     with open('./apiresponse.csv', \"wb\") as csvFile:\n",
    "# #         writer = csv.writer(csvFile, delimiter=',')\n",
    "# #         for line in response:\n",
    "# #             writer.writerow(line)\n",
    "    time.sleep(2)"
   ]
  },
  {
   "cell_type": "code",
   "execution_count": 24,
   "metadata": {},
   "outputs": [
    {
     "name": "stdout",
     "output_type": "stream",
     "text": [
      "{'status': 'success', 'data': {'classes': [{'strm': 2727, 'crseId': 369395, 'crseOfferNbr': 2, 'subject': 'CS', 'catalogNbr': '1380', 'titleShort': 'Data Science for All', 'titleLong': 'Data Science for All', 'enrollGroups': [{'classSections': [{'ssrComponent': 'LEC', 'ssrComponentLong': 'Lecture', 'section': '001', 'classNbr': 12474, 'meetings': [{'classMtgNbr': 1, 'timeStart': '10:10AM', 'timeEnd': '11:25AM', 'startDt': '01/22/2019', 'endDt': '05/07/2019', 'instructors': [{'instrAssignSeq': 2, 'netid': 'jb383', 'firstName': 'James', 'middleName': '', 'lastName': 'Booth'}, {'instrAssignSeq': 1, 'netid': 'agw62', 'firstName': 'Andrew', 'middleName': 'Gordon', 'lastName': 'Wilson'}], 'pattern': 'TR', 'facilityDescr': 'Kimball Hall B11', 'bldgDescr': 'Kimball Hall', 'facilityDescrshort': 'KMBB11', 'meetingTopicDescription': ''}], 'notes': [], 'campus': 'MAIN', 'campusDescr': 'Ithaca', 'location': 'ITH', 'locationDescr': 'Ithaca, NY (Main Campus)', 'startDt': '01/22/2019', 'endDt': '05/07/2019', 'addConsent': 'N', 'addConsentDescr': 'No Special Consent Required', 'isComponentGraded': True, 'instructionMode': 'P', 'instrModeDescrshort': 'In Person', 'instrModeDescr': 'In Person', 'topicDescription': ''}, {'ssrComponent': 'DIS', 'ssrComponentLong': 'Discussion', 'section': '201', 'classNbr': 12476, 'meetings': [{'classMtgNbr': 1, 'timeStart': '12:20PM', 'timeEnd': '02:15PM', 'startDt': '01/22/2019', 'endDt': '05/07/2019', 'instructors': [{'instrAssignSeq': 1, 'netid': 'jb383', 'firstName': 'James', 'middleName': '', 'lastName': 'Booth'}, {'instrAssignSeq': 2, 'netid': 'agw62', 'firstName': 'Andrew', 'middleName': 'Gordon', 'lastName': 'Wilson'}], 'pattern': 'W', 'facilityDescr': 'Thurston Hall 202', 'bldgDescr': 'Thurston Hall', 'facilityDescrshort': 'THR202', 'meetingTopicDescription': ''}], 'notes': [], 'campus': 'MAIN', 'campusDescr': 'Ithaca', 'location': 'ITH', 'locationDescr': 'Ithaca, NY (Main Campus)', 'startDt': '01/22/2019', 'endDt': '05/07/2019', 'addConsent': 'N', 'addConsentDescr': 'No Special Consent Required', 'isComponentGraded': False, 'instructionMode': 'P', 'instrModeDescrshort': 'In Person', 'instrModeDescr': 'In Person', 'topicDescription': ''}, {'ssrComponent': 'DIS', 'ssrComponentLong': 'Discussion', 'section': '202', 'classNbr': 12477, 'meetings': [{'classMtgNbr': 1, 'timeStart': '02:30PM', 'timeEnd': '04:25PM', 'startDt': '01/22/2019', 'endDt': '05/07/2019', 'instructors': [{'instrAssignSeq': 1, 'netid': 'jb383', 'firstName': 'James', 'middleName': '', 'lastName': 'Booth'}, {'instrAssignSeq': 2, 'netid': 'agw62', 'firstName': 'Andrew', 'middleName': 'Gordon', 'lastName': 'Wilson'}], 'pattern': 'W', 'facilityDescr': 'Upson Hall 202', 'bldgDescr': 'Upson Hall', 'facilityDescrshort': 'UPS202', 'meetingTopicDescription': ''}], 'notes': [], 'campus': 'MAIN', 'campusDescr': 'Ithaca', 'location': 'ITH', 'locationDescr': 'Ithaca, NY (Main Campus)', 'startDt': '01/22/2019', 'endDt': '05/07/2019', 'addConsent': 'N', 'addConsentDescr': 'No Special Consent Required', 'isComponentGraded': False, 'instructionMode': 'P', 'instrModeDescrshort': 'In Person', 'instrModeDescr': 'In Person', 'topicDescription': ''}, {'ssrComponent': 'DIS', 'ssrComponentLong': 'Discussion', 'section': '203', 'classNbr': 12478, 'meetings': [{'classMtgNbr': 1, 'timeStart': '07:30PM', 'timeEnd': '09:25PM', 'startDt': '01/22/2019', 'endDt': '05/07/2019', 'instructors': [{'instrAssignSeq': 1, 'netid': 'jb383', 'firstName': 'James', 'middleName': '', 'lastName': 'Booth'}, {'instrAssignSeq': 2, 'netid': 'agw62', 'firstName': 'Andrew', 'middleName': 'Gordon', 'lastName': 'Wilson'}], 'pattern': 'W', 'facilityDescr': 'Hollister Hall 362', 'bldgDescr': 'Hollister Hall', 'facilityDescrshort': 'HLS362', 'meetingTopicDescription': ''}], 'notes': [], 'campus': 'MAIN', 'campusDescr': 'Ithaca', 'location': 'ITH', 'locationDescr': 'Ithaca, NY (Main Campus)', 'startDt': '01/22/2019', 'endDt': '05/07/2019', 'addConsent': 'N', 'addConsentDescr': 'No Special Consent Required', 'isComponentGraded': False, 'instructionMode': 'P', 'instrModeDescrshort': 'In Person', 'instrModeDescr': 'In Person', 'topicDescription': ''}, {'ssrComponent': 'DIS', 'ssrComponentLong': 'Discussion', 'section': '205', 'classNbr': 12480, 'meetings': [{'classMtgNbr': 1, 'timeStart': '12:20PM', 'timeEnd': '02:15PM', 'startDt': '01/22/2019', 'endDt': '05/07/2019', 'instructors': [{'instrAssignSeq': 1, 'netid': 'jb383', 'firstName': 'James', 'middleName': '', 'lastName': 'Booth'}, {'instrAssignSeq': 2, 'netid': 'agw62', 'firstName': 'Andrew', 'middleName': 'Gordon', 'lastName': 'Wilson'}], 'pattern': 'R', 'facilityDescr': 'Thurston Hall 202', 'bldgDescr': 'Thurston Hall', 'facilityDescrshort': 'THR202', 'meetingTopicDescription': ''}], 'notes': [], 'campus': 'MAIN', 'campusDescr': 'Ithaca', 'location': 'ITH', 'locationDescr': 'Ithaca, NY (Main Campus)', 'startDt': '01/22/2019', 'endDt': '05/07/2019', 'addConsent': 'N', 'addConsentDescr': 'No Special Consent Required', 'isComponentGraded': False, 'instructionMode': 'P', 'instrModeDescrshort': 'In Person', 'instrModeDescr': 'In Person', 'topicDescription': ''}], 'unitsMinimum': 4, 'unitsMaximum': 4, 'componentsOptional': [], 'componentsRequired': ['LEC', 'DIS'], 'gradingBasis': 'GRD', 'gradingBasisShort': 'Graded', 'gradingBasisLong': 'Letter grades only', 'simpleCombinations': [{'subject': 'ORIE', 'catalogNbr': '1380', 'type': 'C'}, {'subject': 'STSCI', 'catalogNbr': '1380', 'type': 'C'}], 'sessionCode': '1', 'sessionBeginDt': '01/22/2019', 'sessionEndDt': '05/07/2019', 'sessionLong': 'Regular Academic Session'}], 'description': 'For description, see CS 1380.', 'catalogBreadth': '', 'catalogDistr': '(MQR-AS)', 'catalogLang': '', 'catalogForbiddenOverlaps': '', 'catalogAttribute': '', 'catalogWhenOffered': 'Spring.', 'catalogComments': '', 'catalogPrereqCoreq': 'Prerequisite: basic high school mathematics. No calculus or programming experience required.', 'catalogFee': '', 'catalogSatisfiesReq': '', 'catalogPermission': '', 'catalogCourseSubfield': '', 'catalogOutcomes': None, 'acadCareer': 'UG', 'acadGroup': 'EN'}, {'strm': 2727, 'crseId': 366997, 'crseOfferNbr': 1, 'subject': 'CS', 'catalogNbr': '4786', 'titleShort': 'Machine Learning Data Science', 'titleLong': 'Machine Learning for Data Science', 'enrollGroups': [{'classSections': [{'ssrComponent': 'LEC', 'ssrComponentLong': 'Lecture', 'section': '001', 'classNbr': 16371, 'meetings': [{'classMtgNbr': 1, 'timeStart': '08:40AM', 'timeEnd': '09:55AM', 'startDt': '01/22/2019', 'endDt': '05/07/2019', 'instructors': [{'instrAssignSeq': 1, 'netid': 'ks999', 'firstName': 'Karthik', 'middleName': '', 'lastName': 'Sridharan'}], 'pattern': 'TR', 'facilityDescr': 'Klarman Hall KG70', 'bldgDescr': 'Klarman Hall', 'facilityDescrshort': 'KLRKG70', 'meetingTopicDescription': ''}], 'notes': [{'classNotesSeq': 1, 'descrlong': 'Enrollment limited to CIS students only. All others may add themselves to the waitlist during add/drop. Please go to http://www.cs.cornell.edu/courseinfo/enrollment for updates. It is expected that undergraduate students enroll in the 4000-level section of this class and graduate students enroll in the 5000-level section of this class.'}], 'campus': 'MAIN', 'campusDescr': 'Ithaca', 'location': 'ITH', 'locationDescr': 'Ithaca, NY (Main Campus)', 'startDt': '01/22/2019', 'endDt': '05/07/2019', 'addConsent': 'N', 'addConsentDescr': 'No Special Consent Required', 'isComponentGraded': True, 'instructionMode': 'P', 'instrModeDescrshort': 'In Person', 'instrModeDescr': 'In Person', 'topicDescription': ''}], 'unitsMinimum': 4, 'unitsMaximum': 4, 'componentsOptional': [], 'componentsRequired': ['LEC'], 'gradingBasis': 'OPT', 'gradingBasisShort': 'Stdnt Opt', 'gradingBasisLong': 'Letter or S/U grades', 'simpleCombinations': [{'subject': 'CS', 'catalogNbr': '5786', 'type': 'W'}], 'sessionCode': '1', 'sessionBeginDt': '01/22/2019', 'sessionEndDt': '05/07/2019', 'sessionLong': 'Regular Academic Session'}], 'description': 'An introduction to machine learning for data-science applications. Topics include dimensionality-reduction (such as principal components analysis, canonical correlation analysis, and random projection); clustering (such as k-means and single-link); probabilistic modeling (such as mixture models and the EM algorithm).\\xa0', 'catalogBreadth': '', 'catalogDistr': '', 'catalogLang': '', 'catalogForbiddenOverlaps': '', 'catalogAttribute': '', 'catalogWhenOffered': 'Spring.', 'catalogComments': 'Co-meets with\\xa0CS 5786.', 'catalogPrereqCoreq': 'Prerequisite: probability theory (BTRY 3080, ECON 3130, MATH 4710, or strong performance in ENGRD 2700\\xa0or equivalent); linear algebra (strong performance in MATH 2940\\xa0or equivalent); CS 4780;\\xa0CS 2110\\xa0or equivalent programming proficiency.', 'catalogFee': '', 'catalogSatisfiesReq': '', 'catalogPermission': '', 'catalogCourseSubfield': '', 'catalogOutcomes': None, 'acadCareer': 'UG', 'acadGroup': 'EN'}, {'strm': 2727, 'crseId': 367178, 'crseOfferNbr': 1, 'subject': 'CS', 'catalogNbr': '5304', 'titleShort': 'Data Science in the Wild', 'titleLong': 'Data Science in the Wild', 'enrollGroups': [{'classSections': [{'ssrComponent': 'LEC', 'ssrComponentLong': 'Lecture', 'section': '030', 'classNbr': 11913, 'meetings': [{'classMtgNbr': 1, 'timeStart': '04:45PM', 'timeEnd': '06:00PM', 'startDt': '01/22/2019', 'endDt': '05/07/2019', 'instructors': [{'instrAssignSeq': 14, 'netid': 'et442', 'firstName': 'Eran', 'middleName': '', 'lastName': 'Toch'}], 'pattern': 'MW', 'facilityDescr': 'Bloomberg Center 131', 'bldgDescr': 'Bloomberg Center', 'facilityDescrshort': 'BLM131', 'meetingTopicDescription': ''}], 'notes': [{'classNotesSeq': 1, 'descrlong': 'Taught in NYC. Enrollment limited to Cornell Tech students. *Weill students must obtain instructor approval to enroll. Please send completed registration forms and instructor approval to studentservices@tech.cornell.edu. Students will only be enrolled if space allows.'}], 'campus': 'NYT', 'campusDescr': 'New York Tech Campus', 'location': 'NYCTECH', 'locationDescr': 'Cornell Tech', 'startDt': '01/22/2019', 'endDt': '05/07/2019', 'addConsent': 'N', 'addConsentDescr': 'No Special Consent Required', 'isComponentGraded': True, 'instructionMode': 'P', 'instrModeDescrshort': 'In Person', 'instrModeDescr': 'In Person', 'topicDescription': ''}], 'unitsMinimum': 3, 'unitsMaximum': 3, 'componentsOptional': [], 'componentsRequired': ['LEC'], 'gradingBasis': 'GRD', 'gradingBasisShort': 'Graded', 'gradingBasisLong': 'Letter grades only', 'simpleCombinations': [{'subject': 'INFO', 'catalogNbr': '5304', 'type': 'C'}], 'sessionCode': '1', 'sessionBeginDt': '01/22/2019', 'sessionEndDt': '05/07/2019', 'sessionLong': 'Regular Academic Session'}], 'description': 'Massive amounts of data are collected by many companies and organizations and the task of a data scientist is to extract actionable knowledge from the data – for scientific needs, to improve public health, to promote businesses, for social studies and for various other purposes. This course will focus on the practical aspects of the field and will attempt to provide a comprehensive set of tools for extracting knowledge from data.', 'catalogBreadth': '', 'catalogDistr': '', 'catalogLang': '', 'catalogForbiddenOverlaps': '', 'catalogAttribute': '', 'catalogWhenOffered': 'Spring.', 'catalogComments': '', 'catalogPrereqCoreq': '', 'catalogFee': '', 'catalogSatisfiesReq': '', 'catalogPermission': 'Enrollment limited to: Cornell Tech students.', 'catalogCourseSubfield': '', 'catalogOutcomes': None, 'acadCareer': 'GR', 'acadGroup': 'EN'}, {'strm': 2727, 'crseId': 366998, 'crseOfferNbr': 1, 'subject': 'CS', 'catalogNbr': '5786', 'titleShort': 'Machine Learning Data Science', 'titleLong': 'Machine Learning for Data Science', 'enrollGroups': [{'classSections': [{'ssrComponent': 'LEC', 'ssrComponentLong': 'Lecture', 'section': '001', 'classNbr': 16372, 'meetings': [{'classMtgNbr': 1, 'timeStart': '08:40AM', 'timeEnd': '09:55AM', 'startDt': '01/22/2019', 'endDt': '05/07/2019', 'instructors': [{'instrAssignSeq': 1, 'netid': 'ks999', 'firstName': 'Karthik', 'middleName': '', 'lastName': 'Sridharan'}], 'pattern': 'TR', 'facilityDescr': 'Klarman Hall KG70', 'bldgDescr': 'Klarman Hall', 'facilityDescrshort': 'KLRKG70', 'meetingTopicDescription': ''}], 'notes': [{'classNotesSeq': 1, 'descrlong': 'Enrollment limited to CIS students only. All others may add themselves to the waitlist during add/drop. Please go to http://www.cs.cornell.edu/courseinfo/enrollment for updates. It is expected that undergraduate students enroll in the 4000-level section of this class and graduate students enroll in the 5000-level section of this class.'}], 'campus': 'MAIN', 'campusDescr': 'Ithaca', 'location': 'ITH', 'locationDescr': 'Ithaca, NY (Main Campus)', 'startDt': '01/22/2019', 'endDt': '05/07/2019', 'addConsent': 'N', 'addConsentDescr': 'No Special Consent Required', 'isComponentGraded': True, 'instructionMode': 'P', 'instrModeDescrshort': 'In Person', 'instrModeDescr': 'In Person', 'topicDescription': ''}], 'unitsMinimum': 4, 'unitsMaximum': 4, 'componentsOptional': [], 'componentsRequired': ['LEC'], 'gradingBasis': 'OPT', 'gradingBasisShort': 'Stdnt Opt', 'gradingBasisLong': 'Letter or S/U grades', 'simpleCombinations': [{'subject': 'CS', 'catalogNbr': '4786', 'type': 'W'}], 'sessionCode': '1', 'sessionBeginDt': '01/22/2019', 'sessionEndDt': '05/07/2019', 'sessionLong': 'Regular Academic Session'}], 'description': 'An introduction to machine learning for data-science applications. Topics include dimensionality-reduction (such as principal components analysis, canonical correlation analysis, and random projection); clustering (such as k-means and single-link); probabilistic modeling (such as mixture models and the EM algorithm).\\xa0This course can be taken independently or in any order with CS 4780/CS 5780.', 'catalogBreadth': '', 'catalogDistr': '', 'catalogLang': '', 'catalogForbiddenOverlaps': '', 'catalogAttribute': '', 'catalogWhenOffered': 'Fall.', 'catalogComments': 'Co-meets with\\xa0CS 4786.', 'catalogPrereqCoreq': 'Prerequisite: probability theory (BTRY 3080, ECON 3130, MATH 4710, or strong performance in ENGRD 2700\\xa0or equivalent); linear algebra (strong performance in MATH 2940\\xa0or equivalent); CS 2110\\xa0or equivalent programming proficiency.', 'catalogFee': '', 'catalogSatisfiesReq': '', 'catalogPermission': '', 'catalogCourseSubfield': '', 'catalogOutcomes': None, 'acadCareer': 'GR', 'acadGroup': 'EN'}, {'strm': 2727, 'crseId': 369437, 'crseOfferNbr': 1, 'subject': 'CS', 'catalogNbr': '6241', 'titleShort': 'Data Science Numerics', 'titleLong': 'Numerical Methods for Data Science', 'enrollGroups': [{'classSections': [{'ssrComponent': 'LEC', 'ssrComponentLong': 'Lecture', 'section': '001', 'classNbr': 12542, 'meetings': [{'classMtgNbr': 1, 'timeStart': '02:55PM', 'timeEnd': '04:10PM', 'startDt': '01/22/2019', 'endDt': '05/07/2019', 'instructors': [{'instrAssignSeq': 1, 'netid': 'arb393', 'firstName': 'Austin', 'middleName': 'Reilley', 'lastName': 'Benson'}], 'pattern': 'TR', 'facilityDescr': 'Bard Hall 140', 'bldgDescr': 'Bard Hall', 'facilityDescrshort': 'BRD140', 'meetingTopicDescription': ''}], 'notes': [{'classNotesSeq': 1, 'descrlong': 'Limited to grad students only.'}], 'campus': 'MAIN', 'campusDescr': 'Ithaca', 'location': 'ITH', 'locationDescr': 'Ithaca, NY (Main Campus)', 'startDt': '01/22/2019', 'endDt': '05/07/2019', 'addConsent': 'N', 'addConsentDescr': 'No Special Consent Required', 'isComponentGraded': True, 'instructionMode': 'P', 'instrModeDescrshort': 'In Person', 'instrModeDescr': 'In Person', 'topicDescription': ''}], 'unitsMinimum': 3, 'unitsMaximum': 3, 'componentsOptional': [], 'componentsRequired': ['LEC'], 'gradingBasis': 'OPT', 'gradingBasisShort': 'Stdnt Opt', 'gradingBasisLong': 'Letter or S/U grades', 'simpleCombinations': [], 'sessionCode': '1', 'sessionBeginDt': '01/22/2019', 'sessionEndDt': '05/07/2019', 'sessionLong': 'Regular Academic Session'}], 'description': 'A discussion of numerical methods in the context of data analysis, machine learning, and network science problems. The course will focus on matrix and tensor decompositions, numerical algorithms for graph data, least squares, regression, and iterative methods.', 'catalogBreadth': '', 'catalogDistr': '', 'catalogLang': '', 'catalogForbiddenOverlaps': '', 'catalogAttribute': '', 'catalogWhenOffered': 'Spring.', 'catalogComments': '', 'catalogPrereqCoreq': 'Prerequisite: strong background in linear algebra, prior exposure to numerical methods.', 'catalogFee': '', 'catalogSatisfiesReq': '', 'catalogPermission': '', 'catalogCourseSubfield': '', 'catalogOutcomes': None, 'acadCareer': 'GR', 'acadGroup': 'EN'}]}, 'message': None, 'meta': {'copyright': 'Cornell University, Office of the University Registrar', 'rosterDttm': '2019-03-10T19:14:21-0400', 'catalogDttm': '2019-03-10T19:15:22-0400'}}\n"
     ]
    }
   ],
   "source": [
    "# for keyword in technical:\n",
    "#    parsed_keyword = urllib.parse.quote(keyword[0])\n",
    "#    url = url + parsed_keyword\n",
    "#    # Query the API.\n",
    "#    all_keyword_data = json.loads(urllib.request.urlopen(url).read())\n",
    "#    time.sleep(2) \n",
    "#    try:\n",
    "#        estimated_impressions = all_keyword_data[\"keywords\"][keyword[0]]['ams']\n",
    "#        print(estimated_impressions)\n",
    "#    except TypeError:\n",
    "#       ams = \"NA\"\n",
    "\n",
    "#    # Prepare the output data.\n",
    "#    keyword_data = [keyword[0], ams]\n",
    "#    output.append(keyword_data)\n",
    "\n",
    "# #CORNELL \n",
    "# parameters = {\"roster\":SP19, \"subject\":CS, \"q\":data+science}\n",
    "response = requests.get(\"https://classes.cornell.edu/api/2.0/search/classes.json?roster=SP19&subject=CS&q=data+science\")\n",
    "soup = BeautifulSoup(response.content, 'html.parser')\n",
    "j = response.json()\n",
    "print(j)\n",
    "# #print(len(j)) \n",
    "# # print(soup.prettify())\n",
    "# #list(soup.children)\n",
    "\n",
    "# #extract title and course description, sum num relevant courses\n",
    "# r = requests.get(\"https://classes.cornell.edu/api/2.0/search/classes.json?roster=SP19&subject=INFO&q=data+science\")\n",
    "# k = response.json()\n",
    "# i = len(j) + len(k)\n",
    "#print(i)\n",
    "#print(j.data[1]['classes'])\n",
    "#print(j)\n",
    "\n",
    "#print(soup.prettify())\n",
    "#list(soup.children)\n",
    "\n",
    "# Params to extract: corresponding var name\n",
    "# (2 year time range)\n",
    "# Course number: catalogNbr\n",
    "# Course name: titleShort\n",
    "# Course description: \n",
    "# Department: subject\n",
    "# College: [manual?]\n",
    "# Instructor: firstName + lastName\n",
    "# Credits: \n",
    "# Required?\n",
    "# Link to syllabus\n",
    "# Contact information\n",
    "# URL?\n",
    "# Cross-listed? -- de-duplicate!"
   ]
  }
 ],
 "metadata": {
  "kernelspec": {
   "display_name": "Python 3",
   "language": "python",
   "name": "python3"
  },
  "language_info": {
   "codemirror_mode": {
    "name": "ipython",
    "version": 3
   },
   "file_extension": ".py",
   "mimetype": "text/x-python",
   "name": "python",
   "nbconvert_exporter": "python",
   "pygments_lexer": "ipython3",
   "version": "3.7.1"
  }
 },
 "nbformat": 4,
 "nbformat_minor": 2
}
