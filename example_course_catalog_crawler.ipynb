{
 "cells": [
  {
   "cell_type": "markdown",
   "metadata": {},
   "source": [
    "## Example course catalog crawler "
   ]
  },
  {
   "cell_type": "code",
   "execution_count": 4,
   "metadata": {},
   "outputs": [],
   "source": [
    "import urllib.request\n",
    "import json\n",
    "import csv\n",
    "import requests\n",
    "from bs4 import BeautifulSoup, NavigableString, Tag\n",
    "import re\n",
    "from selenium import webdriver\n",
    "import pandas as pd\n",
    "import numpy as np\n",
    "import nltk \n",
    "from sklearn.feature_extraction.stop_words import ENGLISH_STOP_WORDS\n",
    "from nltk.stem import PorterStemmer\n",
    "from string import punctuation \n",
    "stemmer = PorterStemmer()\n",
    "\n",
    "#cornell course catalog URL\n",
    "urls = ['https://classes.cornell.edu/search/roster/FA19?q=',\n",
    "        'https://classes.cornell.edu/search/roster/SU19?q=',\n",
    "        'https://classes.cornell.edu/search/roster/SP19?q=',\n",
    "        'https://classes.cornell.edu/search/roster/FA18?q=',\n",
    "        'https://classes.cornell.edu/search/roster/SU18?q=',\n",
    "        'https://classes.cornell.edu/search/roster/SP18?q=']\n",
    "        \n",
    "#init keyword lists (cornell accepts wildcards)\n",
    "normative = ['accountability', 'critical', 'democracy', 'discrimination', 'equality', 'equity',\n",
    "            'ethic', 'fair', 'feminism', 'gender', 'govern', 'history', 'inequality', 'justice',\n",
    "            'law', 'legal', 'liberty', 'moral', 'normative', 'philosophy', 'poltiics', 'power',\n",
    "            'privacy', 'race', 'religious', 'responsible', 'right', 'security', 'social', 'society',\n",
    "            'surveillance', 'transparent', 'value', \n",
    "            #following keywords are for pilot only\n",
    "            'anthropology', 'economy', 'policy', 'sociology']\n",
    "technical = ['ai', 'algorithm', 'analytics', 'artificial+intelligence', 'automate', 'code', \n",
    "            'computing', 'cs', 'cyber', 'data', 'digital', 'ict', 'information', 'intelligence',\n",
    "            'internet', 'machine', 'ml', 'natural+language+processing', 'nlp', 'platform', 'programming',\n",
    "            'robot', 'software', 'system', 'technology']  \n",
    "\n",
    "#keyword lists (if course roster requires stemming)\n",
    "#TODO \n",
    "\n",
    "#course search using normative keywords as queries \n",
    "for url in urls:\n",
    "    for keyword in normative: \n",
    "        url_keyword = url + keyword\n",
    "        response = requests.get(url_keyword)\n",
    "        soup = BeautifulSoup(response.content, 'lxml')\n",
    "        #extract relevant elements  (course num, course title, website, credits, description)\n",
    "        keepwithnext = soup.find_all(class_=\"keepwithnext\")\n",
    "        titles = [dt.get_text() for dt in keepwithnext]  #titles and course num \n",
    "        #websites = soup.select(\"div dd a\") \n",
    "        #print(titles, websites)\n",
    "        #sites = [url.get_text() for url in websites] #course website \n",
    "        details = soup.select('div dd') \n",
    "        desc = [dd.get_text() for dd in details] #credits, description, website (need to parse/clean)\n",
    "        titles.reset_index(drop=True, inplace=True)\n",
    "        desc.reset_index(drop=True, inplace=True)\n",
    "        df = pd.concat([titles, desc], axis=1)\n",
    "   # data = data.append(pd.DataFrame({'Title': titles,'Description':desc}, index=[0]), ignore_index=False)\n",
    "    #print(data.head())\n",
    "    \n",
    "#search for technical keywords within course list\n",
    "#for course in courses:\n",
    "    #for keyword in technical:\n",
    "        #return courses that have union of technical + normative keywords in either title or course description\n",
    "\n",
    "#export course list as csv\n",
    "#export_csv = df.to_csv(r'crawler_response.csv',index = None,header=True) "
   ]
  }
 ],
 "metadata": {
  "kernelspec": {
   "display_name": "Python 3",
   "language": "python",
   "name": "python3"
  },
  "language_info": {
   "codemirror_mode": {
    "name": "ipython",
    "version": 3
   },
   "file_extension": ".py",
   "mimetype": "text/x-python",
   "name": "python",
   "nbconvert_exporter": "python",
   "pygments_lexer": "ipython3",
   "version": "3.7.1"
  }
 },
 "nbformat": 4,
 "nbformat_minor": 2
}
