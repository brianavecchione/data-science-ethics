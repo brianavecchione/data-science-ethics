{
 "cells": [
  {
   "cell_type": "markdown",
   "metadata": {},
   "source": [
    "## Example course catalog crawler "
   ]
  },
  {
   "cell_type": "code",
   "execution_count": 142,
   "metadata": {},
   "outputs": [
    {
     "ename": "IndexError",
     "evalue": "list index out of range",
     "output_type": "error",
     "traceback": [
      "\u001b[0;31m---------------------------------------------------------------------------\u001b[0m",
      "\u001b[0;31mIndexError\u001b[0m                                Traceback (most recent call last)",
      "\u001b[0;32m<ipython-input-142-d3ee79a2ac30>\u001b[0m in \u001b[0;36m<module>\u001b[0;34m\u001b[0m\n\u001b[1;32m     42\u001b[0m     \u001b[0mkeepwithnext\u001b[0m \u001b[0;34m=\u001b[0m \u001b[0msoup\u001b[0m\u001b[0;34m.\u001b[0m\u001b[0mfind_all\u001b[0m\u001b[0;34m(\u001b[0m\u001b[0mclass_\u001b[0m\u001b[0;34m=\u001b[0m\u001b[0;34m\"keepwithnext\"\u001b[0m\u001b[0;34m)\u001b[0m\u001b[0;34m\u001b[0m\u001b[0;34m\u001b[0m\u001b[0m\n\u001b[1;32m     43\u001b[0m     \u001b[0mtitles\u001b[0m \u001b[0;34m=\u001b[0m \u001b[0;34m[\u001b[0m\u001b[0mdt\u001b[0m\u001b[0;34m.\u001b[0m\u001b[0mget_text\u001b[0m\u001b[0;34m(\u001b[0m\u001b[0;34m)\u001b[0m \u001b[0;32mfor\u001b[0m \u001b[0mdt\u001b[0m \u001b[0;32min\u001b[0m \u001b[0mkeepwithnext\u001b[0m\u001b[0;34m]\u001b[0m  \u001b[0;31m#titles and course num\u001b[0m\u001b[0;34m\u001b[0m\u001b[0;34m\u001b[0m\u001b[0m\n\u001b[0;32m---> 44\u001b[0;31m     \u001b[0mt\u001b[0m \u001b[0;34m=\u001b[0m \u001b[0mt\u001b[0m\u001b[0;34m.\u001b[0m\u001b[0mappend\u001b[0m\u001b[0;34m(\u001b[0m\u001b[0mtitles\u001b[0m\u001b[0;34m)\u001b[0m\u001b[0;34m\u001b[0m\u001b[0;34m\u001b[0m\u001b[0m\n\u001b[0m\u001b[1;32m     45\u001b[0m     \u001b[0;31m#websites = soup.select(\"div dd a\")\u001b[0m\u001b[0;34m\u001b[0m\u001b[0;34m\u001b[0m\u001b[0;34m\u001b[0m\u001b[0m\n\u001b[1;32m     46\u001b[0m     \u001b[0;31m#print(titles, websites)\u001b[0m\u001b[0;34m\u001b[0m\u001b[0;34m\u001b[0m\u001b[0;34m\u001b[0m\u001b[0m\n",
      "\u001b[0;32m~/anaconda3/lib/python3.7/site-packages/pandas/core/frame.py\u001b[0m in \u001b[0;36mappend\u001b[0;34m(self, other, ignore_index, verify_integrity, sort)\u001b[0m\n\u001b[1;32m   6197\u001b[0m             \u001b[0;32mif\u001b[0m \u001b[0;32mnot\u001b[0m \u001b[0mself\u001b[0m\u001b[0;34m.\u001b[0m\u001b[0mcolumns\u001b[0m\u001b[0;34m.\u001b[0m\u001b[0mequals\u001b[0m\u001b[0;34m(\u001b[0m\u001b[0mcombined_columns\u001b[0m\u001b[0;34m)\u001b[0m\u001b[0;34m:\u001b[0m\u001b[0;34m\u001b[0m\u001b[0;34m\u001b[0m\u001b[0m\n\u001b[1;32m   6198\u001b[0m                 \u001b[0mself\u001b[0m \u001b[0;34m=\u001b[0m \u001b[0mself\u001b[0m\u001b[0;34m.\u001b[0m\u001b[0mreindex\u001b[0m\u001b[0;34m(\u001b[0m\u001b[0mcolumns\u001b[0m\u001b[0;34m=\u001b[0m\u001b[0mcombined_columns\u001b[0m\u001b[0;34m)\u001b[0m\u001b[0;34m\u001b[0m\u001b[0;34m\u001b[0m\u001b[0m\n\u001b[0;32m-> 6199\u001b[0;31m         \u001b[0;32melif\u001b[0m \u001b[0misinstance\u001b[0m\u001b[0;34m(\u001b[0m\u001b[0mother\u001b[0m\u001b[0;34m,\u001b[0m \u001b[0mlist\u001b[0m\u001b[0;34m)\u001b[0m \u001b[0;32mand\u001b[0m \u001b[0;32mnot\u001b[0m \u001b[0misinstance\u001b[0m\u001b[0;34m(\u001b[0m\u001b[0mother\u001b[0m\u001b[0;34m[\u001b[0m\u001b[0;36m0\u001b[0m\u001b[0;34m]\u001b[0m\u001b[0;34m,\u001b[0m \u001b[0mDataFrame\u001b[0m\u001b[0;34m)\u001b[0m\u001b[0;34m:\u001b[0m\u001b[0;34m\u001b[0m\u001b[0;34m\u001b[0m\u001b[0m\n\u001b[0m\u001b[1;32m   6200\u001b[0m             \u001b[0mother\u001b[0m \u001b[0;34m=\u001b[0m \u001b[0mDataFrame\u001b[0m\u001b[0;34m(\u001b[0m\u001b[0mother\u001b[0m\u001b[0;34m)\u001b[0m\u001b[0;34m\u001b[0m\u001b[0;34m\u001b[0m\u001b[0m\n\u001b[1;32m   6201\u001b[0m             \u001b[0;32mif\u001b[0m \u001b[0;34m(\u001b[0m\u001b[0mself\u001b[0m\u001b[0;34m.\u001b[0m\u001b[0mcolumns\u001b[0m\u001b[0;34m.\u001b[0m\u001b[0mget_indexer\u001b[0m\u001b[0;34m(\u001b[0m\u001b[0mother\u001b[0m\u001b[0;34m.\u001b[0m\u001b[0mcolumns\u001b[0m\u001b[0;34m)\u001b[0m \u001b[0;34m>=\u001b[0m \u001b[0;36m0\u001b[0m\u001b[0;34m)\u001b[0m\u001b[0;34m.\u001b[0m\u001b[0mall\u001b[0m\u001b[0;34m(\u001b[0m\u001b[0;34m)\u001b[0m\u001b[0;34m:\u001b[0m\u001b[0;34m\u001b[0m\u001b[0;34m\u001b[0m\u001b[0m\n",
      "\u001b[0;31mIndexError\u001b[0m: list index out of range"
     ]
    }
   ],
   "source": [
    "import urllib.request\n",
    "import json\n",
    "import csv\n",
    "import requests\n",
    "from bs4 import BeautifulSoup, NavigableString, Tag\n",
    "import re\n",
    "from selenium import webdriver\n",
    "import pandas as pd\n",
    "\n",
    "url = 'http://coursecatalog.web.cmu.edu/search/?context=catalog&search='\n",
    "#TODO: concurrent urls for 2 year timeframe\n",
    "#http://coursecatalog.web.cmu.edu/previous/2017-2018/\n",
    "#http://coursecatalog.web.cmu.edu/previous/2016-2017/\n",
    "data = pd.DataFrame([])\n",
    "\n",
    "#init keyword lists\n",
    "technical = ['artificial+intelligence', 'assumption', 'algorithm', 'analytics', 'AI', 'automat', 'big+data',\n",
    "             'calc', 'calculus', 'code', 'comput', 'cyber','data', 'data+analysis', 'data+mining',\n",
    "             'data+science', 'data+warehousing', 'data+wrangling' 'database', 'database+management',\n",
    "             'decision+making', 'digital', 'engineering', 'ICT', 'information', \n",
    "             'information+communication+technology', 'internet', 'linalg', 'linear+algebra',\n",
    "             'machine+learning', 'ML', 'modeling', 'natural+language+processing', 'NLP', \n",
    "             'problem+formulation', 'programming', 'quantitative+modeling', 'robot', 'software', \n",
    "             'statistics', 'stats', 'techn', 'visualization']  \n",
    "#'automat'*, 'comput'*, 'robot'*, 'techn'*\n",
    "\n",
    "normative = ['critical', 'ethic', 'fair', 'feminist', 'govern', 'inequality', 'law', 'normative',\n",
    "             'philosoph', 'policy', 'privacy', 'relig', 'responsib', 'security', 'social', 'society',\n",
    "             'surveillance', 'value']\n",
    "# 'ethic'*, 'fair'*,'govern'*,'philosoph'*,'relig'*, 'responsib'*,'value'*\n",
    "keywords = technical + normative \n",
    "\n",
    "#CMU course catalog scraper \n",
    "for keyword in keywords: \n",
    "    url_keyword = url + keyword\n",
    "    #print(url_keyword)\n",
    "    response = requests.get(url_keyword)\n",
    "    soup = BeautifulSoup(response.content, 'lxml')\n",
    "    #extract relevant elements  (course num, course title, website, credits, description)\n",
    "    keepwithnext = soup.find_all(class_=\"keepwithnext\")\n",
    "    titles = [dt.get_text() for dt in keepwithnext]  #titles and course num \n",
    "    #websites = soup.select(\"div dd a\") \n",
    "    #print(titles, websites)\n",
    "    #sites = [url.get_text() for url in websites] #course website \n",
    "    details = soup.select('div dd') \n",
    "    desc = [dd.get_text() for dd in details] #credits, description, website (need to parse/clean)\n",
    "    x = \n",
    "    titles.reset_index(drop=True, inplace=True)\n",
    "    desc.reset_index(drop=True, inplace=True)\n",
    "    df = pd.concat([titles, desc], axis=1)\n",
    "   # data = data.append(pd.DataFrame({'Title': titles,'Description':desc}, index=[0]), ignore_index=False)\n",
    "    \n",
    "    #print(data.head())\n",
    "    \n",
    "#     s1 = pd.Series(titles, name='titles')\n",
    "#     s2 = pd.Series(desc, name='desc')\n",
    "#     data = pd.concat([s1,s2], axis=0,ignore_index=False)\n",
    "#     print(type(data))\n",
    "   \n",
    "#     df.append({'Title':titles, 'Description':desc})\n",
    "#     df = pd.concat([pd.Series(v, name=k) for k, v in d.items()], axis=1)\n",
    "\n",
    "# print(df)\n",
    "#     data = pd.DataFrame(\n",
    "#     {'Title': titles,\n",
    "#      'Description': desc\n",
    "#     })\n",
    "#     #print(data)\n",
    "#     df.append(data)\n",
    "    \n",
    "#     s1 = pd.Series(titles, name='titles')\n",
    "#     s2 = pd.Series(desc, name='desc')\n",
    "#     data = pd.concat([s2,s1], axis=0,ignore_index=False)\n",
    "#     print(data)\n",
    "    \n",
    "\n",
    "# #export_csv = df.to_csv(r'crawler_response.csv',index = None,header=True) "
   ]
  },
  {
   "cell_type": "raw",
   "metadata": {},
   "source": [
    "TODO:\n",
    "#pipe to df --> csv\n",
    "#union of (technical and normative keywords) "
   ]
  }
 ],
 "metadata": {
  "kernelspec": {
   "display_name": "Python 3",
   "language": "python",
   "name": "python3"
  },
  "language_info": {
   "codemirror_mode": {
    "name": "ipython",
    "version": 3
   },
   "file_extension": ".py",
   "mimetype": "text/x-python",
   "name": "python",
   "nbconvert_exporter": "python",
   "pygments_lexer": "ipython3",
   "version": "3.7.1"
  }
 },
 "nbformat": 4,
 "nbformat_minor": 2
}
